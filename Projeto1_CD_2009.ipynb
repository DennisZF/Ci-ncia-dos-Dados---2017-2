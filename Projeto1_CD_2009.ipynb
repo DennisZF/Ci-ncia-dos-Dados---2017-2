{
 "cells": [
  {
   "cell_type": "code",
   "execution_count": null,
   "metadata": {
    "collapsed": true
   },
   "outputs": [],
   "source": [
    "#bibliotecas inicializadas \n",
    "import pandas as pd\n",
    "\n",
    "%matplotlib inline\n",
    "import matplotlib.pyplot as plt\n",
    "import matplotlib\n"
   ]
  },
  {
   "cell_type": "code",
   "execution_count": null,
   "metadata": {
    "collapsed": true
   },
   "outputs": [],
   "source": [
    "#carregando a base de dados\n",
    "dados2009 = pd.read_table(\"DOM2009.csv\", encoding=\"windows-1252\", sep=\",\")"
   ]
  },
  {
   "cell_type": "code",
   "execution_count": null,
   "metadata": {
    "collapsed": true
   },
   "outputs": [],
   "source": [
    "#tamanho da base de dados\n",
    "dados2009.shape"
   ]
  },
  {
   "cell_type": "code",
   "execution_count": null,
   "metadata": {
    "collapsed": true
   },
   "outputs": [],
   "source": [
    "#criando as categorias\n",
    "dados2009.V0201 = dados2009.V0201.astype('category')\n",
    "dados2009.V4105 = dados2009.V4105.astype('category')\n",
    "dados2009.V2103 = dados2009.V2103.astype('category')\n",
    "dados2009.V2105 = dados2009.V2105.astype('category')\n",
    "dados2009.V2107 = dados2009.V2107.astype('category')\n",
    "dados2009.V2109 = dados2009.V2109.astype('category')"
   ]
  },
  {
   "cell_type": "code",
   "execution_count": null,
   "metadata": {
    "collapsed": true
   },
   "outputs": [],
   "source": [
    "#Conversão legenda - Descrição \n",
    "dados2009.V0201.cat.categories = ('Particular Permanente','Particular Improvisado','Coletivo')\n",
    "dados2009.V4105.cat.categories = ('URBANA - Cidade ou vila, área urbanizada','URBANA - Cidade ou vila, área não urbanizada','URBANA - Área urbana isolada','RURAL - Aglomerado rural de extensão urbana','RURAL - Aglomerado rural, isolado, povoado','RURAL - Aglomerado rural, isolado, núcleo','RURAL - Aglomerado rural, isolado, outros aglomerados','RURAL - Zona rural exclusive aglomerado rural')\n",
    "dados2009.V2103.cat.categories = ('Sim','Não')\n",
    "dados2009.V2105.cat.categories = ('Sim','Não')\n",
    "dados2009.V2107.cat.categories = ('Sim','Não')\n",
    "dados2009.V2109.cat.categories = ('Sim','Não')"
   ]
  },
  {
   "cell_type": "code",
   "execution_count": null,
   "metadata": {
    "collapsed": true
   },
   "outputs": [],
   "source": [
    "#1° recorte: estado de são paulo\n",
    "tabsp= dados2009[dados2009.UF==35]\n"
   ]
  },
  {
   "cell_type": "code",
   "execution_count": null,
   "metadata": {
    "collapsed": true
   },
   "outputs": [],
   "source": [
    "#visualizando todas as colunas disponíveis na base de dados (verificar dicionário para identificação de cada coluna) \n",
    "list(tabsp)"
   ]
  },
  {
   "cell_type": "code",
   "execution_count": null,
   "metadata": {
    "collapsed": true
   },
   "outputs": [],
   "source": [
    "#corte da base de dados, pegando apenas as colunas desejadas\n",
    "tabspcortada = tabsp.iloc[:,[6,8,59,72,81,82,83,84]]"
   ]
  },
  {
   "cell_type": "code",
   "execution_count": null,
   "metadata": {
    "collapsed": true
   },
   "outputs": [],
   "source": [
    "#retirando valores indefinidos de renda\n",
    "tabsprenda = tabspcortada[(tabspcortada.V4614 != 999999999999)]\n",
    "tabsprenda.dropna()"
   ]
  }
 ],
 "metadata": {
  "kernelspec": {
   "display_name": "Python 3",
   "language": "python",
   "name": "python3"
  },
  "language_info": {
   "codemirror_mode": {
    "name": "ipython",
    "version": 3
   },
   "file_extension": ".py",
   "mimetype": "text/x-python",
   "name": "python",
   "nbconvert_exporter": "python",
   "pygments_lexer": "ipython3",
   "version": "3.6.1"
  }
 },
 "nbformat": 4,
 "nbformat_minor": 2
}
